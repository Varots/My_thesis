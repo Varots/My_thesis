{
 "cells": [
  {
   "cell_type": "markdown",
   "id": "126082fa",
   "metadata": {},
   "source": [
    "# Sideband analysis on a jammed channel\n",
    "This code aims to do some analysis on the sidebands of the channel previouvsly studied with Deep Learning tools.\n",
    "\\\n",
    "One problem noticed in the anomaly classificator was the fact that the so called *watchdog* is not able to determine there difference between jammed channel and a channel with no i/q coordinates (that could have for example problems in recieving data).\n",
    "\\\n",
    "The proposed idea aims to study the behaviour of the power among the sidebans of the signal, in order to see if there is a correlation between the power among the sidebands of the channel and the presence of a jammer.\n",
    "\\\n",
    "\\\n",
    "Two parameters will be computed: the first one will be the power over the sidebands in a waterfall plot window composed by *n* PSDs; the second one will be the mean ratio between the power in the sidebands and the total power among the same waterfall plot.\n",
    "\\\n",
    "Then, there will be computed *p* waterfall plots and from that there will be extracted the mean and the standard deviations of the parameters explained above.\n",
    "\n"
   ]
  },
  {
   "cell_type": "code",
   "execution_count": 1,
   "id": "5e0cb8f4",
   "metadata": {},
   "outputs": [],
   "source": [
    "import numpy as np\n",
    "import pandas as pd\n",
    "import matplotlib.pyplot as plt\n",
    "from sklearn.cluster import KMeans\n",
    "from sklearn.metrics import pairwise_distances"
   ]
  },
  {
   "cell_type": "code",
   "execution_count": 2,
   "id": "f32d20b7",
   "metadata": {},
   "outputs": [
    {
     "name": "stdout",
     "output_type": "stream",
     "text": [
      "[False False False ... False False False]\n",
      "Total power: 2.5674326769633646e-09\n",
      "Mainband_power. 3.999918922256334e-10\n",
      "Ratio: 84.42054992075882 %\n"
     ]
    },
    {
     "data": {
      "image/png": "[encoded data removed]",
      "text/plain": [
       "<Figure size 640x480 with 1 Axes>"
      ]
     },
     "metadata": {},
     "output_type": "display_data"
    }
   ],
   "source": [
    "## example of how to compute a PSD and plot it\n",
    "file = np.fromfile(open(\"empty_channel\"), dtype=np.complex64) ## empty channel case\n",
    "samp_rate=41.44*10e6\n",
    "##f is my array that contains i/q samples\n",
    "n=1024\n",
    "x=file[0:0+n] ##first n samples\n",
    "PSD = np.abs(np.fft.fft(x))**2 / (n*samp_rate)\n",
    "PSD_shifted = np.fft.fftshift(PSD)\n",
    "fc=2.56*1e9\n",
    "f = np.arange(samp_rate/-2.0, samp_rate/2.0, samp_rate/n) # start, stop, step.  centered around 0 Hz\n",
    "f += fc ## shift the plot\n",
    "bandwidth=18.43*1e6\n",
    "mask_1= f>=(fc-bandwidth/2)\n",
    "mask_2= f<=(fc+bandwidth/2)\n",
    "mask=np.bitwise_and(mask_1,mask_2) ## mask of my mainband\n",
    "print(mask)\n",
    "total_power=np.sum(PSD_shifted)\n",
    "mainband_power=np.sum(PSD_shifted[mask])\n",
    "sideband_power= total_power- mainband_power ## compute the power among mainband, sideband and the total power\n",
    "ratio= sideband_power*100/ total_power\n",
    "print(\"Total power:\", total_power)\n",
    "print(\"Mainband_power.\", mainband_power)\n",
    "print(\"Ratio:\", ratio, \"%\")\n",
    "plt.plot(f, PSD_shifted)\n",
    "plt.show()\n",
    "\n"
   ]
  },
  {
   "cell_type": "code",
   "execution_count": 3,
   "id": "37f6a71f",
   "metadata": {},
   "outputs": [],
   "source": [
    "def compute_sideband(channel_descriptor):\n",
    "    ch_desc = np.fromfile(open(channel_descriptor), dtype=np.complex64)\n",
    "    waterfall_window=300 ##  number of PSDs for each waterfall plot\n",
    "    sideband_power_values=[] ## values of the power of the sideband for each waterfall plot\n",
    "    ratio_values=[] ## values of the power of the sideband for each waterfall plot\n",
    "    samp_rate=41.44*1e6\n",
    "    bandwidth=18.43*1e6 ## known by priori parameter\n",
    "    n=1024 ## size of my fft\n",
    "    num_waterfall=150## number of waterfall plots that i want to generate\n",
    "    lo_idx=0 ## lower index to iterate in my file descriptor\n",
    "    for i in range(num_waterfall):\n",
    "        sideband_power_waterfall_window=0 ## reset the values \n",
    "        ratio_waterfall_window=0\n",
    "        for j in range(waterfall_window):\n",
    "            x=ch_desc[lo_idx:lo_idx+n]\n",
    "            PSD = np.abs(np.fft.fft(x))**2 / (n*samp_rate) ## compute PSD and normalize it by n*samp_rate\n",
    "            PSD_shifted = np.fft.fftshift(PSD)\n",
    "            fc=2.56*1e9 ##2.56 Ghz\n",
    "            f = np.arange(samp_rate/-2.0, samp_rate/2.0, samp_rate/n) # start, stop, step.  centered around 0 Hz\n",
    "            f += fc ## shift the plot\n",
    "            mask_1= f>=(fc-bandwidth/2)\n",
    "            mask_2= f<=(fc+bandwidth/2)\n",
    "            mask=np.bitwise_and(mask_1,mask_2) ## i filter the frequencies in my mainband\n",
    "            total_power=np.sum(PSD_shifted) ## compute the total power over the PSD\n",
    "            mainband_power=np.sum(PSD_shifted[mask]) ## compute the mainband power using our mask\n",
    "            sideband_power= total_power- mainband_power\n",
    "            ratio= sideband_power*100/ total_power\n",
    "            sideband_power_waterfall_window=sideband_power_waterfall_window+ sideband_power\n",
    "            ratio_waterfall_window=ratio_waterfall_window+ratio\n",
    "            lo_idx=lo_idx+n\n",
    "        sideband_power_values.append(sideband_power_waterfall_window) ## i append the values of the sideband of a waterfall plot\n",
    "        ratio_values.append(ratio_waterfall_window/waterfall_window) ## mean values of the ratios among a waterfall plot\n",
    "    values=[] ## array composed of the for values that i will return outside the function\n",
    "    values.append(np.mean(sideband_power_values))\n",
    "    values.append(np.std(sideband_power_values))\n",
    "    values.append(np.mean(ratio_values))\n",
    "    values.append(np.std(ratio_values))\n",
    "    return values\n",
    "    \n",
    "    "
   ]
  },
  {
   "cell_type": "code",
   "execution_count": 3,
   "id": "fb5d12f1",
   "metadata": {},
   "outputs": [
    {
     "name": "stdout",
     "output_type": "stream",
     "text": [
      "Mean of the power levels in the sideband for the empty channel: 1.4678077331353344e-06\n",
      "Stdv of the power levels in the sideband for the empty channel: 1.4060212001697865e-06\n",
      "Mean of the ratios for the empty channel: 13.036533447161833 %\n",
      "Stdv of the ratios for the empty channel: 0.8416195307216329 %\n"
     ]
    }
   ],
   "source": [
    "val_empty=compute_sideband(\"empty_channel\")\n",
    "print(\"Mean of the power levels in the sideband for the empty channel:\", val_empty[0])\n",
    "print(\"Stdv of the power levels in the sideband for the empty channel:\", val_empty[1])\n",
    "print(\"Mean of the ratios for the empty channel:\", val_empty[2],\"%\")\n",
    "print(\"Stdv of the ratios for the empty channel:\", val_empty[3],\"%\")\n"
   ]
  },
  {
   "cell_type": "code",
   "execution_count": 4,
   "id": "35e0907e",
   "metadata": {},
   "outputs": [
    {
     "name": "stdout",
     "output_type": "stream",
     "text": [
      "Mean of the power levels in the sideband for the transmitting channel: 0.0004412378313280596\n",
      "Stdv of the power levels in the sideband for the transmitting channel: 0.0003244697498132368\n",
      "Mean of the ratios for the transmitting channel: 4.950096423309817 %\n",
      "Stdv of the ratios for the transmitting channel: 2.48966840404687 %\n"
     ]
    }
   ],
   "source": [
    "val_tx=compute_sideband(\"tx_channel\")\n",
    "print(\"Mean of the power levels in the sideband for the transmitting channel:\", val_tx[0])\n",
    "print(\"Stdv of the power levels in the sideband for the transmitting channel:\", val_tx[1])\n",
    "print(\"Mean of the ratios for the transmitting channel:\", val_tx[2],\"%\")\n",
    "print(\"Stdv of the ratios for the transmitting channel:\", val_tx[3],\"%\")"
   ]
  },
  {
   "cell_type": "code",
   "execution_count": 5,
   "id": "096a8536",
   "metadata": {},
   "outputs": [
    {
     "name": "stdout",
     "output_type": "stream",
     "text": [
      "Mean of the power levels in the sideband for the jammed channel: 0.005492870953726583\n",
      "Stdv of the power levels in the sideband for the jammed channel: 1.0663678504426737e-05\n",
      "Mean of the ratios for the jammed channel: 55.558741052990605 %\n",
      "Stdv of the ratios for the jammed channel: 0.0850024537342767 %\n"
     ]
    }
   ],
   "source": [
    "val_jam=compute_sideband(\"jammed_channel\")\n",
    "print(\"Mean of the power levels in the sideband for the jammed channel:\", val_jam[0])\n",
    "print(\"Stdv of the power levels in the sideband for the jammed channel:\", val_jam[1])\n",
    "print(\"Mean of the ratios for the jammed channel:\", val_jam[2],\"%\")\n",
    "print(\"Stdv of the ratios for the jammed channel:\", val_jam[3],\"%\")"
   ]
  },
  {
   "cell_type": "markdown",
   "id": "cad6144c",
   "metadata": {},
   "source": [
    "<strong> Comments on the result </strong></p>\n",
    "As we can see from the results shown above, in the first two cases (the \"normal cases\"), the power among the sideband is very low, while in the jammed channel case is not neglibigle, especially if we see the mean of the ratios computed: in fact, in the first two cases the ratios rarely exceed the 15%, while in the jammed case we have a mean ratio of 55%.\n",
    "\\\n",
    "A proposed approach will be to set a treshold based on these parameters, and add this feature to our classifier to make him determine if the detected anomaly will be a jammed channel or not.\n",
    "\\\n",
    "These parameters are computed analyzing a dataset; the tests will be performed using another dataset.\n",
    "\n",
    "\n",
    "\n",
    "\n"
   ]
  },
  {
   "cell_type": "code",
   "execution_count": 9,
   "id": "dd405be4",
   "metadata": {},
   "outputs": [
    {
     "name": "stdout",
     "output_type": "stream",
     "text": [
      "Accuracy of this threshold for the transmitting channel case: 99.93333333333332 %\n"
     ]
    }
   ],
   "source": [
    "## performing some tests on the tx channel, the tests on the empty channel are too trivial, the energy level is too low\n",
    "index=0 \n",
    "tx_channel = np.fromfile(open(\"tx_channel\"), dtype=np.complex64)\n",
    "predicted=[]\n",
    "samp_rate=41.44*1e6\n",
    "bandwidth=18.43*1e6\n",
    "waterfall_window=300\n",
    "n=1024\n",
    "power_th=0.0004412378313280596\n",
    "num_test=3000\n",
    "for i in range(num_test):\n",
    "    sideband_power_waterfall_window=0\n",
    "    ratio_waterfall_window=0\n",
    "    for j in range(waterfall_window):\n",
    "        x=tx_channel[index:index+1024]\n",
    "        PSD = np.abs(np.fft.fft(x))**2 / (n*samp_rate) ## compute PSD and normalize it by n*samp_rate\n",
    "        PSD_shifted = np.fft.fftshift(PSD)\n",
    "        fc=2.56*1e9 ##2.56 Ghz\n",
    "        f = np.arange(samp_rate/-2.0, samp_rate/2.0, samp_rate/n) # start, stop, step.  centered around 0 Hz\n",
    "        f += fc ## shift the plot\n",
    "        mask_1= f>=(fc-bandwidth/2)\n",
    "        mask_2= f<=(fc+bandwidth/2)\n",
    "        mask=np.bitwise_and(mask_1,mask_2) ## i filter the frequencies in my mainband\n",
    "        total_power=np.sum(PSD_shifted) ## compute the total power over the PSD\n",
    "        mainband_power=np.sum(PSD_shifted[mask]) ## compute the mainband power using our mask\n",
    "        sideband_power= total_power- mainband_power\n",
    "        ratio= sideband_power*100/ total_power\n",
    "        sideband_power_waterfall_window=sideband_power_waterfall_window+ sideband_power\n",
    "        ratio_waterfall_window=ratio_waterfall_window+ratio\n",
    "        index=index+n\n",
    "    if(sideband_power_waterfall_window>power_th):\n",
    "        predicted.append(0)\n",
    "    else:\n",
    "        predicted.append(1)\n",
    "\n",
    "print(\"Accuracy of this threshold for the transmitting channel case:\",np.sum(predicted)/len(predicted)*100,\"%\")\n",
    "\n",
    "    \n",
    "    \n"
   ]
  },
  {
   "cell_type": "code",
   "execution_count": 10,
   "id": "f11d9a0f",
   "metadata": {},
   "outputs": [
    {
     "name": "stdout",
     "output_type": "stream",
     "text": [
      "Accuracy of this threshold for the jammed channel case: 100.0 %\n"
     ]
    }
   ],
   "source": [
    "## performing some tests on the jammed channel with white noise (so uniform), it will be interesting to see if the threshold works also with gaussian noise\n",
    "index=0 \n",
    "jammed_channel = np.fromfile(open(\"jammed_channel\"), dtype=np.complex64)\n",
    "predicted=[]\n",
    "samp_rate=41.44*1e6\n",
    "bandwidth=18.43*1e6\n",
    "waterfall_window=300\n",
    "n=1024\n",
    "power_th=0.0004412378313280596\n",
    "num_test=3000\n",
    "for i in range(num_test):\n",
    "    sideband_power_waterfall_window=0\n",
    "    ratio_waterfall_window=0\n",
    "    for j in range(waterfall_window):\n",
    "        x=jammed_channel[index:index+1024]\n",
    "        PSD = np.abs(np.fft.fft(x))**2 / (n*samp_rate) ## compute PSD and normalize it by n*samp_rate\n",
    "        PSD_shifted = np.fft.fftshift(PSD)\n",
    "        fc=2.56*1e9 ##2.56 Ghz\n",
    "        f = np.arange(samp_rate/-2.0, samp_rate/2.0, samp_rate/n) # start, stop, step.  centered around 0 Hz\n",
    "        f += fc ## shift the plot\n",
    "        mask_1= f>=(fc-bandwidth/2)\n",
    "        mask_2= f<=(fc+bandwidth/2)\n",
    "        mask=np.bitwise_and(mask_1,mask_2) ## i filter the frequencies in my mainband\n",
    "        total_power=np.sum(PSD_shifted) ## compute the total power over the PSD\n",
    "        mainband_power=np.sum(PSD_shifted[mask]) ## compute the mainband power using our mask\n",
    "        sideband_power= total_power- mainband_power\n",
    "        ratio= sideband_power*100/ total_power\n",
    "        sideband_power_waterfall_window=sideband_power_waterfall_window+ sideband_power\n",
    "        ratio_waterfall_window=ratio_waterfall_window+ratio\n",
    "        index=index+n\n",
    "    if(sideband_power_waterfall_window>power_th):\n",
    "        predicted.append(1)\n",
    "    else:\n",
    "        predicted.append(0)\n",
    "\n",
    "print(\"Accuracy of this threshold for the jammed channel case:\",np.sum(predicted)/len(predicted)*100,\"%\")"
   ]
  },
  {
   "cell_type": "code",
   "execution_count": null,
   "id": "c34dbbe3",
   "metadata": {},
   "outputs": [],
   "source": []
  }
 ],
 "metadata": {
  "kernelspec": {
   "display_name": "Python 3 (ipykernel)",
   "language": "python",
   "name": "python3"
  },
  "language_info": {
   "codemirror_mode": {
    "name": "ipython",
    "version": 3
   },
   "file_extension": ".py",
   "mimetype": "text/x-python",
   "name": "python",
   "nbconvert_exporter": "python",
   "pygments_lexer": "ipython3",
   "version": "3.9.16"
  }
 },
 "nbformat": 4,
 "nbformat_minor": 5
}
