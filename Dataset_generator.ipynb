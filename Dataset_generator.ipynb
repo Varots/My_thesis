{
 "cells": [
  {
   "cell_type": "code",
   "execution_count": 1,
   "id": "cb57029d",
   "metadata": {},
   "outputs": [],
   "source": [
    "import numpy as np\n",
    "import pandas as pd\n",
    "import matplotlib.pyplot as plt"
   ]
  },
  {
   "cell_type": "code",
   "execution_count": 2,
   "id": "a366243f",
   "metadata": {},
   "outputs": [],
   "source": [
    "empty_channel = np.fromfile(open(\"empty_channel\"), dtype=np.complex64)\n",
    "tx_channel=np.fromfile(open(\"tx_channel\"), dtype=np.complex64)\n",
    "jammer=np.fromfile(open(\"jammed_channel_simulation\"), dtype=np.complex64)"
   ]
  },
  {
   "cell_type": "code",
   "execution_count": 3,
   "id": "c75366e7",
   "metadata": {},
   "outputs": [],
   "source": [
    "training_set_dim=2000\n",
    "validation_set_dim=300\n",
    "test_set_dim=200"
   ]
  },
  {
   "cell_type": "code",
   "execution_count": 4,
   "id": "96ccdce8",
   "metadata": {},
   "outputs": [
    {
     "data": {
      "text/plain": [
       "<Figure size 640x480 with 0 Axes>"
      ]
     },
     "metadata": {},
     "output_type": "display_data"
    }
   ],
   "source": [
    "lower=0\n",
    "upper=1024\n",
    "label_string=\"0_\"\n",
    "img_index=0\n",
    "while(img_index<training_set_dim):\n",
    "    dataset=empty_channel[lower:upper]\n",
    "    x = [ele.real for ele in dataset]\n",
    "    y = [ele.imag for ele in dataset]\n",
    "    plt.scatter(x, y)\n",
    "    plt.axis(\"off\")\n",
    "    plt.savefig(\"./data/clean/images/\"+label_string+ str(img_index)+\".png\")\n",
    "    plt.clf()\n",
    "    lower+=1024\n",
    "    upper+=1024\n",
    "    img_index+=1\n",
    "\n",
    "while(img_index<training_set_dim+validation_set_dim):\n",
    "    dataset=empty_channel[lower:upper]\n",
    "    x = [ele.real for ele in dataset]\n",
    "    y = [ele.imag for ele in dataset]\n",
    "    plt.scatter(x, y)\n",
    "    plt.axis(\"off\")\n",
    "    plt.savefig(\"./data/clean_validation/images/\"+label_string+ str(img_index)+\".png\")\n",
    "    plt.clf()\n",
    "    lower+=1024\n",
    "    upper+=1024\n",
    "    img_index+=1\n",
    "\n",
    "\n",
    "while(img_index<training_set_dim+validation_set_dim+test_set_dim):\n",
    "    dataset=empty_channel[lower:upper]\n",
    "    x = [ele.real for ele in dataset]\n",
    "    y = [ele.imag for ele in dataset]\n",
    "    plt.scatter(x, y)\n",
    "    plt.axis(\"off\")\n",
    "    plt.savefig(\"./data/test/images/\"+label_string+ str(img_index)+\".png\")\n",
    "    plt.clf()\n",
    "    lower+=1024\n",
    "    upper+=1024\n",
    "    img_index+=1\n",
    "    \n",
    "    "
   ]
  },
  {
   "cell_type": "code",
   "execution_count": 5,
   "id": "2ed01233",
   "metadata": {},
   "outputs": [
    {
     "data": {
      "text/plain": [
       "<Figure size 640x480 with 0 Axes>"
      ]
     },
     "metadata": {},
     "output_type": "display_data"
    }
   ],
   "source": [
    "lower=0\n",
    "upper=1024\n",
    "label_string=\"1_\"\n",
    "img_index=0\n",
    "while(img_index<training_set_dim):\n",
    "    dataset=tx_channel[lower:upper]\n",
    "    x = [ele.real for ele in dataset]\n",
    "    y = [ele.imag for ele in dataset]\n",
    "    plt.scatter(x, y)\n",
    "    plt.axis(\"off\")\n",
    "    plt.savefig(\"./data/clean/images/\"+label_string+ str(img_index)+\".png\")\n",
    "    plt.clf()\n",
    "    lower+=1024\n",
    "    upper+=1024\n",
    "    img_index+=1\n",
    "while(img_index<training_set_dim+validation_set_dim):\n",
    "    dataset=tx_channel[lower:upper]\n",
    "    x = [ele.real for ele in dataset]\n",
    "    y = [ele.imag for ele in dataset]\n",
    "    plt.scatter(x, y)\n",
    "    plt.axis(\"off\")\n",
    "    plt.savefig(\"./data/clean_validation/images/\"+label_string+ str(img_index)+\".png\")\n",
    "    plt.clf()\n",
    "    lower+=1024\n",
    "    upper+=1024\n",
    "    img_index+=1\n",
    "\n",
    "while(img_index<training_set_dim+validation_set_dim+test_set_dim):\n",
    "    dataset=tx_channel[lower:upper]\n",
    "    x = [ele.real for ele in dataset]\n",
    "    y = [ele.imag for ele in dataset]\n",
    "    plt.scatter(x, y)\n",
    "    plt.axis(\"off\")\n",
    "    plt.savefig(\"./data/test/images/\"+label_string+ str(img_index)+\".png\")\n",
    "    plt.clf()\n",
    "    lower+=1024\n",
    "    upper+=1024\n",
    "    img_index+=1"
   ]
  },
  {
   "cell_type": "code",
   "execution_count": 6,
   "id": "a989c4bf",
   "metadata": {},
   "outputs": [
    {
     "data": {
      "text/plain": [
       "<Figure size 640x480 with 0 Axes>"
      ]
     },
     "metadata": {},
     "output_type": "display_data"
    }
   ],
   "source": [
    "lower=0\n",
    "upper=1024\n",
    "label_string=\"2_\"\n",
    "img_index=0\n",
    "while(img_index<500):\n",
    "    dataset=jammer[lower:upper]\n",
    "    x = [ele.real for ele in dataset]\n",
    "    y = [ele.imag for ele in dataset]\n",
    "    plt.scatter(x, y)\n",
    "    plt.axis(\"off\")\n",
    "    plt.savefig(\"./data/jammed_channel/images/\"+label_string+ str(img_index)+\".png\")\n",
    "    plt.clf()\n",
    "    lower+=1024\n",
    "    upper+=1024\n",
    "    img_index+=1\n",
    "\n",
    "while(img_index<900):\n",
    "    dataset=jammer[lower:upper]\n",
    "    x = [ele.real for ele in dataset]\n",
    "    y = [ele.imag for ele in dataset]\n",
    "    plt.scatter(x, y)\n",
    "    plt.axis(\"off\")\n",
    "    plt.savefig(\"./data/test/images/\"+label_string+ str(img_index)+\".png\")\n",
    "    plt.clf()\n",
    "    lower+=1024\n",
    "    upper+=1024\n",
    "    img_index+=1"
   ]
  },
  {
   "cell_type": "code",
   "execution_count": null,
   "id": "9b3a48db",
   "metadata": {},
   "outputs": [],
   "source": []
  }
 ],
 "metadata": {
  "kernelspec": {
   "display_name": "Python 3 (ipykernel)",
   "language": "python",
   "name": "python3"
  },
  "language_info": {
   "codemirror_mode": {
    "name": "ipython",
    "version": 3
   },
   "file_extension": ".py",
   "mimetype": "text/x-python",
   "name": "python",
   "nbconvert_exporter": "python",
   "pygments_lexer": "ipython3",
   "version": "3.11.2"
  }
 },
 "nbformat": 4,
 "nbformat_minor": 5
}
